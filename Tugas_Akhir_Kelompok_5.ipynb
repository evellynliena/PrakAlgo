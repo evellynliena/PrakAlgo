{
  "nbformat": 4,
  "nbformat_minor": 0,
  "metadata": {
    "colab": {
      "provenance": [],
      "authorship_tag": "ABX9TyNMpCmP9uy/Ru654I91aVGk",
      "include_colab_link": true
    },
    "kernelspec": {
      "name": "python3",
      "display_name": "Python 3"
    },
    "language_info": {
      "name": "python"
    }
  },
  "cells": [
    {
      "cell_type": "markdown",
      "metadata": {
        "id": "view-in-github",
        "colab_type": "text"
      },
      "source": [
        "<a href=\"https://colab.research.google.com/github/evellynliena/PrakAlgo/blob/main/Tugas_Akhir_Kelompok_5.ipynb\" target=\"_parent\"><img src=\"https://colab.research.google.com/assets/colab-badge.svg\" alt=\"Open In Colab\"/></a>"
      ]
    },
    {
      "cell_type": "code",
      "execution_count": null,
      "metadata": {
        "colab": {
          "base_uri": "https://localhost:8080/"
        },
        "id": "i8EofXnLkU5L",
        "outputId": "045ef804-cbff-487d-afbf-292347173f35"
      },
      "outputs": [
        {
          "output_type": "stream",
          "name": "stdout",
          "text": [
            "\n",
            "=== MENU ===\n",
            "1. Tambah Pengguna\n",
            "2. Tampilkan Semua Pengguna\n",
            "3. Cari Pengguna\n",
            "4. Aktifkan Akun Pengguna\n",
            "5. Nonaktifkan Akun Pengguna\n",
            "6. Keluar\n"
          ]
        }
      ],
      "source": [
        "class Pengguna:\n",
        "    def __init__(self, username, email):\n",
        "        self.username = username\n",
        "        self.email = email\n",
        "        self.status_aktif = False\n",
        "\n",
        "    def aktifkan_akun(self):\n",
        "        if self.status_aktif:\n",
        "            raise ValueError(f\"Akun dengan username '{self.username}' sudah aktif.\")\n",
        "        self.status_aktif = True\n",
        "        print(f\"Akun '{self.username}' berhasil diaktifkan.\")\n",
        "\n",
        "    def nonaktifkan_akun(self):\n",
        "        if not self.status_aktif:\n",
        "            raise ValueError(f\"Akun dengan username '{self.username}' sudah nonaktif.\")\n",
        "        self.status_aktif = False\n",
        "        print(f\"Akun '{self.username}' berhasil dinonaktifkan.\")\n",
        "\n",
        "    def __str__(self):\n",
        "        status = \"Aktif\" if self.status_aktif else \"Nonaktif\"\n",
        "        return f\"Username: {self.username}, Email: {self.email}, Status: {status}\"\n",
        "\n",
        "daftar_pengguna = []\n",
        "dict_pengguna = {}\n",
        "\n",
        "def tambah_pengguna(username, email):\n",
        "    if username in dict_pengguna:\n",
        "        raise ValueError(f\"Pengguna dengan username '{username}' sudah ada.\")\n",
        "    pengguna_baru = Pengguna(username, email)\n",
        "    daftar_pengguna.append(pengguna_baru)\n",
        "    dict_pengguna[username] = pengguna_baru\n",
        "    print(f\"Pengguna '{username}' berhasil ditambahkan.\")\n",
        "\n",
        "def tampilkan_semua_pengguna():\n",
        "    if not daftar_pengguna:\n",
        "        print(\"Tidak ada pengguna yang terdaftar.\")\n",
        "    else:\n",
        "        print(\"Daftar Pengguna:\")\n",
        "        for pengguna in daftar_pengguna:\n",
        "            print(pengguna)\n",
        "\n",
        "def cari_pengguna(username):\n",
        "    if username not in dict_pengguna:\n",
        "        raise KeyError(f\"Pengguna dengan username '{username}' tidak ditemukan.\")\n",
        "    pengguna = dict_pengguna[username]\n",
        "    print(\"Informasi Pengguna:\")\n",
        "    print(pengguna)\n",
        "\n",
        "def aktifkan_akun_pengguna(username):\n",
        "    if username not in dict_pengguna:\n",
        "        raise KeyError(f\"Pengguna dengan username '{username}' tidak ditemukan.\")\n",
        "    pengguna = dict_pengguna[username]\n",
        "    pengguna.aktifkan_akun()\n",
        "\n",
        "def nonaktifkan_akun_pengguna(username):\n",
        "    if username not in dict_pengguna:\n",
        "        raise KeyError(f\"Pengguna dengan username '{username}' tidak ditemukan.\")\n",
        "    pengguna = dict_pengguna[username]\n",
        "    pengguna.nonaktifkan_akun()\n",
        "\n",
        "if __name__ == \"__main__\":\n",
        "    while True:\n",
        "        print(\"\\n=== MENU ===\")\n",
        "        print(\"1. Tambah Pengguna\")\n",
        "        print(\"2. Tampilkan Semua Pengguna\")\n",
        "        print(\"3. Cari Pengguna\")\n",
        "        print(\"4. Aktifkan Akun Pengguna\")\n",
        "        print(\"5. Nonaktifkan Akun Pengguna\")\n",
        "        print(\"6. Keluar\")\n",
        "\n",
        "        try:\n",
        "            pilihan = int(input(\"Pilih opsi (1-6): \"))\n",
        "            if pilihan == 1:\n",
        "                username = input(\"Masukkan username: \")\n",
        "                email = input(\"Masukkan email: \")\n",
        "                tambah_pengguna(username, email)\n",
        "            elif pilihan == 2:\n",
        "                tampilkan_semua_pengguna()\n",
        "            elif pilihan == 3:\n",
        "                username = input(\"Masukkan username yang dicari: \")\n",
        "                cari_pengguna(username)\n",
        "            elif pilihan == 4:\n",
        "                username = input(\"Masukkan username yang ingin diaktifkan: \")\n",
        "                aktifkan_akun_pengguna(username)\n",
        "            elif pilihan == 5:\n",
        "                username = input(\"Masukkan username yang ingin dinonaktifkan: \")\n",
        "                nonaktifkan_akun_pengguna(username)\n",
        "            elif pilihan == 6:\n",
        "                print(\"Program selesai. Terima kasih!\")\n",
        "                break\n",
        "            else:\n",
        "                print(\"Pilihan tidak valid. Silakan pilih angka 1-6.\")\n",
        "        except ValueError:\n",
        "            print(\"Input tidak valid. Masukkan angka yang sesuai.\")\n",
        "        except KeyError as e:\n",
        "            print(f\"Kesalahan: {e}\")\n",
        "        except Exception as e:\n",
        "            print(f\"Kesalahan: {e}\")"
      ]
    }
  ]
}