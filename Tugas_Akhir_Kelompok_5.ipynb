{
  "nbformat": 4,
  "nbformat_minor": 0,
  "metadata": {
    "colab": {
      "provenance": [],
      "authorship_tag": "ABX9TyPRkW71XXhYRtLTxrM7aKxl",
      "include_colab_link": true
    },
    "kernelspec": {
      "name": "python3",
      "display_name": "Python 3"
    },
    "language_info": {
      "name": "python"
    }
  },
  "cells": [
    {
      "cell_type": "markdown",
      "metadata": {
        "id": "view-in-github",
        "colab_type": "text"
      },
      "source": [
        "<a href=\"https://colab.research.google.com/github/evellynliena/PrakAlgo/blob/main/Tugas_Akhir_Kelompok_5.ipynb\" target=\"_parent\"><img src=\"https://colab.research.google.com/assets/colab-badge.svg\" alt=\"Open In Colab\"/></a>"
      ]
    },
    {
      "cell_type": "code",
      "execution_count": null,
      "metadata": {
        "colab": {
          "base_uri": "https://localhost:8080/"
        },
        "id": "i8EofXnLkU5L",
        "outputId": "6b1d320c-29f3-4004-ecb7-a2955f8c53cd"
      },
      "outputs": [
        {
          "output_type": "stream",
          "name": "stdout",
          "text": [
            "\n",
            "=== Sistem Manajemen Kursus ===\n",
            "1. Tambah Kursus\n",
            "2. Tambah Peserta\n",
            "3. Cari Kursus\n",
            "4. Tampilkan Semua Kursus\n",
            "5. Keluar\n"
          ]
        }
      ],
      "source": [
        "class Kursus:\n",
        "    def __init__(self, nama_kursus, kode_kursus, durasi, kapasitas):\n",
        "        self.nama_kursus = nama_kursus\n",
        "        self.kode_kursus = kode_kursus\n",
        "        self.durasi = durasi\n",
        "        self.kapasitas = kapasitas\n",
        "        self.peserta = 0\n",
        "\n",
        "    def tambah_peserta(self):\n",
        "        if self.peserta < self.kapasitas:\n",
        "            self.peserta += 1\n",
        "            print(f\"Peserta berhasil ditambahkan. Total peserta sekarang: {self.peserta}.\")\n",
        "        else:\n",
        "            raise Exception(\"Kapasitas kursus sudah penuh.\")\n",
        "\n",
        "    def info_kursus(self):\n",
        "        return f\"Nama Kursus: {self.nama_kursus}\\nKode Kursus: {self.kode_kursus}\\nDurasi: {self.durasi} minggu\\nKapasitas: {self.kapasitas}\\nPeserta: {self.peserta}\"\n",
        "\n",
        "\n",
        "daftar_kursus = []\n",
        "kursus_dict = {}\n",
        "\n",
        "def tampilkan_semua_kursus():\n",
        "    if daftar_kursus:\n",
        "        print(\"Daftar Kursus:\")\n",
        "        for kursus in daftar_kursus:\n",
        "            print(kursus.info_kursus())\n",
        "            print(\"-\" * 40)\n",
        "    else:\n",
        "        print(\"Belum ada kursus yang terdaftar.\")\n",
        "\n",
        "\n",
        "def cari_kursus(kode):\n",
        "    try:\n",
        "        kursus = kursus_dict[kode]\n",
        "        print(\"Kursus ditemukan:\")\n",
        "        print(kursus.info_kursus())\n",
        "    except KeyError:\n",
        "        print(\"Kursus dengan kode tersebut tidak ditemukan.\")\n",
        "\n",
        "\n",
        "def tambah_kursus():\n",
        "    try:\n",
        "        nama = input(\"Masukkan nama kursus: \")\n",
        "        kode = input(\"Masukkan kode kursus: \")\n",
        "        durasi = int(input(\"Masukkan durasi kursus (minggu): \"))\n",
        "        kapasitas = int(input(\"Masukkan kapasitas kursus: \"))\n",
        "\n",
        "        kursus_baru = Kursus(nama, kode, durasi, kapasitas)\n",
        "        daftar_kursus.append(kursus_baru)\n",
        "        kursus_dict[kode] = kursus_baru\n",
        "        print(\"Kursus berhasil ditambahkan!\")\n",
        "    except ValueError:\n",
        "        print(\"Durasi atau kapasitas harus berupa angka.\")\n",
        "\n",
        "\n",
        "def tambah_peserta_kursus():\n",
        "    kode = input(\"Masukkan kode kursus: \")\n",
        "    try:\n",
        "        kursus = kursus_dict[kode]\n",
        "        kursus.tambah_peserta()\n",
        "    except KeyError:\n",
        "        print(\"Kursus dengan kode tersebut tidak ditemukan.\")\n",
        "    except Exception as e:\n",
        "        print(e)\n",
        "\n",
        "def menu():\n",
        "    while True:\n",
        "        print(\"\\n=== Sistem Manajemen Kursus ===\")\n",
        "        print(\"1. Tambah Kursus\")\n",
        "        print(\"2. Tambah Peserta\")\n",
        "        print(\"3. Cari Kursus\")\n",
        "        print(\"4. Tampilkan Semua Kursus\")\n",
        "        print(\"5. Keluar\")\n",
        "\n",
        "        pilihan = input(\"Pilih opsi: \")\n",
        "        if pilihan == \"1\":\n",
        "            tambah_kursus()\n",
        "        elif pilihan == \"2\":\n",
        "            tambah_peserta_kursus()\n",
        "        elif pilihan == \"3\":\n",
        "            kode = input(\"Masukkan kode kursus: \")\n",
        "            cari_kursus(kode)\n",
        "        elif pilihan == \"4\":\n",
        "            tampilkan_semua_kursus()\n",
        "        elif pilihan == \"5\":\n",
        "            print(\"Terima kasih telah menggunakan sistem manajemen kursus.\")\n",
        "            break\n",
        "        else:\n",
        "            print(\"Pilihan tidak valid. Silakan coba lagi.\")\n",
        "\n",
        "if __name__ == \"__main__\":\n",
        "    menu()"
      ]
    }
  ]
}