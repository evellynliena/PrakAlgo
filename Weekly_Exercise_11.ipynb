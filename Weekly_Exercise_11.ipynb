{
  "nbformat": 4,
  "nbformat_minor": 0,
  "metadata": {
    "colab": {
      "provenance": [],
      "authorship_tag": "ABX9TyP2BdmsLiyxdx2kYCth9vlX",
      "include_colab_link": true
    },
    "kernelspec": {
      "name": "python3",
      "display_name": "Python 3"
    },
    "language_info": {
      "name": "python"
    }
  },
  "cells": [
    {
      "cell_type": "markdown",
      "metadata": {
        "id": "view-in-github",
        "colab_type": "text"
      },
      "source": [
        "<a href=\"https://colab.research.google.com/github/evellynliena/PrakAlgo/blob/main/Weekly_Exercise_11.ipynb\" target=\"_parent\"><img src=\"https://colab.research.google.com/assets/colab-badge.svg\" alt=\"Open In Colab\"/></a>"
      ]
    },
    {
      "cell_type": "markdown",
      "source": [
        "# **WEEKLY EXERCISE**"
      ],
      "metadata": {
        "id": "hna-q7kP_A1u"
      }
    },
    {
      "cell_type": "markdown",
      "source": [
        "# **Weekly Exercise 1**"
      ],
      "metadata": {
        "id": "Fj3AkFY0_It9"
      }
    },
    {
      "cell_type": "code",
      "source": [
        "import sys\n",
        "sys.path.append('/content/matematika.py')\n",
        "\n",
        "import matematika\n",
        "import math\n",
        "\n",
        "jari2 = float(input(\"Masukkan jari-jari lingkaran: \"))\n",
        "luas_lingkaran = math.pi * jari2**2\n",
        "print(f\"Luas lingkaran dengan jari-jari {jari2} adalah: {luas_lingkaran:.2f}\")\n",
        "\n",
        "sisi = float(input(\"Masukkan sisi persegi: \"))\n",
        "luas_persegi = sisi**2\n",
        "print(f\"Luas persegi dengan sisi {sisi} adalah: {luas_persegi:.2f}\")\n",
        "\n",
        "panjang = float(input(\"Masukkan panjang persegi panjang: \"))\n",
        "lebar = float(input(\"Masukkan lebar persegi panjang: \"))\n",
        "luas_persegi_panjang = panjang * lebar\n",
        "print(f\"Luas persegi panjang dengan panjang {panjang} dan lebar {lebar} adalah: {luas_persegi_panjang:.2f}\")"
      ],
      "metadata": {
        "colab": {
          "base_uri": "https://localhost:8080/"
        },
        "id": "3su0mF_sApiX",
        "outputId": "8ce5a81c-d256-4900-fc70-b67ca7422f5b"
      },
      "execution_count": 21,
      "outputs": [
        {
          "output_type": "stream",
          "name": "stdout",
          "text": [
            "Masukkan jari-jari lingkaran: 5\n",
            "Luas lingkaran dengan jari-jari 5.0 adalah: 78.54\n",
            "Masukkan sisi persegi: 3\n",
            "Luas persegi dengan sisi 3.0 adalah: 9.00\n",
            "Masukkan panjang persegi panjang: 6\n",
            "Masukkan lebar persegi panjang: 4\n",
            "Luas persegi panjang dengan panjang 6.0 dan lebar 4.0 adalah: 24.00\n"
          ]
        }
      ]
    },
    {
      "cell_type": "markdown",
      "source": [
        "# **Weekly Exercise 2**"
      ],
      "metadata": {
        "id": "5R1fXEgxElqK"
      }
    },
    {
      "cell_type": "code",
      "source": [
        "import math\n",
        "\n",
        "angka_kuadrat = float(input(\"Masukkan angka yang akan diakar kuadratkan: \"))\n",
        "akar_kuadrat = math.sqrt(angka_kuadrat)\n",
        "print(f\"Akar kuadrat dari {angka_kuadrat} adalah {akar_kuadrat}\")\n",
        "\n",
        "angka = int(input(\"Masukkan angka yang akan difaktorialkan: \"))\n",
        "faktorial = math.factorial(angka)\n",
        "print(f\"Faktorial dari {angka} adalah {faktorial}\")\n",
        "\n",
        "basis = float(input(\"Masukkan angka basis: \"))\n",
        "eksponen = float(input(\"Masukkan angka eksponen: \"))\n",
        "hasil_pangkat = math.pow(basis, eksponen)\n",
        "print(f\"{basis} pangkat {eksponen} adalah {hasil_pangkat}\")\n",
        "\n",
        "derajat = float(input(\"Masukkan angka derajat: \"))\n",
        "radian = math.radians(derajat)\n",
        "print(f\"{derajat} derajat adalah {radian} radian\")\n",
        "\n",
        "sudut = math.pi / 2\n",
        "nilai_sinus = math.sin(sudut)\n",
        "print(f\"Nilai sinus dari {sudut} radian adalah {nilai_sinus}\")"
      ],
      "metadata": {
        "colab": {
          "base_uri": "https://localhost:8080/"
        },
        "id": "4Bbh58wjEoI9",
        "outputId": "2811576c-62f1-4a33-de20-17eee5658fae"
      },
      "execution_count": 24,
      "outputs": [
        {
          "output_type": "stream",
          "name": "stdout",
          "text": [
            "Masukkan angka yang akan diakar kuadratkan: 16\n",
            "Akar kuadrat dari 16.0 adalah 4.0\n",
            "Masukkan angka yang akan difaktorialkan: 5\n",
            "Faktorial dari 5 adalah 120\n",
            "Masukkan angka basis: 2\n",
            "Masukkan angka eksponen: 3\n",
            "2.0 pangkat 3.0 adalah 8.0\n",
            "Masukkan angka derajat: 180\n",
            "180.0 derajat adalah 3.141592653589793 radian\n",
            "Nilai sinus dari 1.5707963267948966 radian adalah 1.0\n"
          ]
        }
      ]
    }
  ]
}