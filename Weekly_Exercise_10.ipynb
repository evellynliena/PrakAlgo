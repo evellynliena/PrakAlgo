{
  "nbformat": 4,
  "nbformat_minor": 0,
  "metadata": {
    "colab": {
      "provenance": [],
      "authorship_tag": "ABX9TyM5TTypIqzfqg0IpWolGh5r",
      "include_colab_link": true
    },
    "kernelspec": {
      "name": "python3",
      "display_name": "Python 3"
    },
    "language_info": {
      "name": "python"
    }
  },
  "cells": [
    {
      "cell_type": "markdown",
      "metadata": {
        "id": "view-in-github",
        "colab_type": "text"
      },
      "source": [
        "<a href=\"https://colab.research.google.com/github/evellynliena/PrakAlgo/blob/main/Weekly_Exercise_10.ipynb\" target=\"_parent\"><img src=\"https://colab.research.google.com/assets/colab-badge.svg\" alt=\"Open In Colab\"/></a>"
      ]
    },
    {
      "cell_type": "markdown",
      "source": [
        "# **WEEKLY EXERCISE**"
      ],
      "metadata": {
        "id": "w7P-i2YH2ajt"
      }
    },
    {
      "cell_type": "markdown",
      "source": [
        "# Weekly Exercise 1"
      ],
      "metadata": {
        "id": "NQFg_4482edl"
      }
    },
    {
      "cell_type": "code",
      "source": [
        "def faktorial(x):\n",
        "    if x == 0 or x == 1:\n",
        "        return 1\n",
        "    else:\n",
        "        return (x * faktorial(x-1))\n",
        "angka = int(input(\"Masukkan angka: \"))\n",
        "if angka < 0:\n",
        "  print(\"Angka harus positif\")\n",
        "else:\n",
        "  hasil = faktorial(angka)\n",
        "  print(f\"Faktorial dari {angka} adalah {hasil}\")"
      ],
      "metadata": {
        "colab": {
          "base_uri": "https://localhost:8080/"
        },
        "id": "vK-VslvL7fzO",
        "outputId": "b20d2fcf-072c-4163-f55b-26e574eeae65"
      },
      "execution_count": 10,
      "outputs": [
        {
          "output_type": "stream",
          "name": "stdout",
          "text": [
            "Masukkan angka: 5\n",
            "Faktorial dari 5 adalah 120\n"
          ]
        }
      ]
    },
    {
      "cell_type": "markdown",
      "source": [
        "# Weekly Exercise 2"
      ],
      "metadata": {
        "id": "FHvw9R3o3pUt"
      }
    },
    {
      "cell_type": "code",
      "source": [
        "import math\n",
        "def luas_lingkaran():\n",
        "    r = float(input(\"Masukkan jari-jari lingkaran: \"))\n",
        "    luas = math.pi * (r**2)\n",
        "    print(f\"Luas lingkaran dengan jari-jari {r} adalah {luas:.2f}\")\n",
        "def luas_persegi():\n",
        "    s = float(input(\"Masukkan sisi persegi: \"))\n",
        "    luas = s**2\n",
        "    print(f\"Luas persegi dengan sisi {s} adalah {luas:.2f}\")\n",
        "def luas_segitiga():\n",
        "    a = float(input(\"Masukkan alas segitiga: \"))\n",
        "    t = float(input(\"Masukkan tinggi segitiga: \"))\n",
        "    luas = 0.5 * a * t\n",
        "    print(f\"Luas segitiga dengan alas {a} dan tinggi {t} adalah {luas:.2f}\")\n",
        "\n",
        "def kalkulator_luas():\n",
        "    print(\"Pilih bentuk yang ingin dihitung luasnya:\")\n",
        "    print(\"1. Lingkaran\")\n",
        "    print(\"2. Persegi\")\n",
        "    print(\"3. Segitiga\")\n",
        "\n",
        "    pilihan = input(\"Masukkan nomor pilihan (1/2/3): \")\n",
        "\n",
        "    if pilihan == \"1\":\n",
        "        luas_lingkaran()\n",
        "    elif pilihan == \"2\":\n",
        "        luas_persegi()\n",
        "    elif pilihan == \"3\":\n",
        "        luas_segitiga()\n",
        "    else:\n",
        "        print(\"Pilihan tidak valid. Silakan pilih 1, 2, atau 3.\")\n",
        "\n",
        "kalkulator_luas()"
      ],
      "metadata": {
        "colab": {
          "base_uri": "https://localhost:8080/"
        },
        "id": "frvfC5Iu3roF",
        "outputId": "8094048c-11d2-44f3-dd58-266b406c9d36"
      },
      "execution_count": 11,
      "outputs": [
        {
          "output_type": "stream",
          "name": "stdout",
          "text": [
            "Pilih bentuk yang ingin dihitung luasnya:\n",
            "1. Lingkaran\n",
            "2. Persegi\n",
            "3. Segitiga\n",
            "Masukkan nomor pilihan (1/2/3): 1\n",
            "Masukkan jari-jari lingkaran: 3\n",
            "Luas lingkaran dengan jari-jari 3.0 adalah 28.27\n"
          ]
        }
      ]
    }
  ]
}