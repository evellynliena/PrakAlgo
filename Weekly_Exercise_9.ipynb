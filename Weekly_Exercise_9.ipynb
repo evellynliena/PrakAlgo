{
  "nbformat": 4,
  "nbformat_minor": 0,
  "metadata": {
    "colab": {
      "provenance": [],
      "authorship_tag": "ABX9TyMp7s8m3dZDa2N46dYEJOSI",
      "include_colab_link": true
    },
    "kernelspec": {
      "name": "python3",
      "display_name": "Python 3"
    },
    "language_info": {
      "name": "python"
    }
  },
  "cells": [
    {
      "cell_type": "markdown",
      "metadata": {
        "id": "view-in-github",
        "colab_type": "text"
      },
      "source": [
        "<a href=\"https://colab.research.google.com/github/evellynliena/PrakAlgo/blob/main/Weekly_Exercise_9.ipynb\" target=\"_parent\"><img src=\"https://colab.research.google.com/assets/colab-badge.svg\" alt=\"Open In Colab\"/></a>"
      ]
    },
    {
      "cell_type": "markdown",
      "source": [
        "# **Weekly Exercise 1**"
      ],
      "metadata": {
        "id": "Ifqs7PqR6Sd7"
      }
    },
    {
      "cell_type": "markdown",
      "source": [
        "Sebutkan dan jelaskan perbedaan dari list, tuple, set dan dictionary dalam python:\n",
        "\n",
        "1. List adalah koleksi data yang berurutan dan dapat diubah. List dapat berisi duplikat.\n",
        "2. Tuple adalah koleksi data yang berurutan dan tidak dapat diubah. Tuple dapat berisi duplikat.\n",
        "3. Set adalah kolesi data yang tidak berurutan, tidak dapat diubah, dan tidak memiliki indeks. Set tidak bisa berisi duplikat\n",
        "4. Dictionary dalah koleksi data yang berurutan dan dapat diubah. Tetapi tidak bisa berisi duplikat"
      ],
      "metadata": {
        "id": "4qxRTI_68Xi9"
      }
    },
    {
      "cell_type": "markdown",
      "source": [
        "# **Weekly Exercise 2**"
      ],
      "metadata": {
        "id": "6iL9l4an8YJY"
      }
    },
    {
      "cell_type": "code",
      "source": [
        "mahasiswa_list = [\n",
        "    {\n",
        "        \"Nama\": \"Sua\",\n",
        "        \"Kelas\": \"11-A\",\n",
        "        \"Tanggal Lahir\": \"22 December 2004\",\n",
        "        \"No HP\": \"022204086669\",\n",
        "        \"Alamat\": \"Jln. Sweet Dreams\",\n",
        "        \"Hobi\": [\"Membaca\", \"Menggambar\", \"Menulis\"]\n",
        "    },\n",
        "    {\n",
        "        \"Nama\": \"Mizi\",\n",
        "        \"Kelas\": \"11-A\",\n",
        "        \"Tanggal Lahir\": \"20 Agustus 2004\",\n",
        "        \"No HP\": \"011104089666\",\n",
        "        \"Alamat\": \"Jln. My Clematis\",\n",
        "        \"Hobi\": [\"Menyanyi\", \"Memasak\", \"Berkebun\"]\n",
        "    },\n",
        "    {\n",
        "        \"Nama\": \"Ivan\",\n",
        "        \"Kelas\": \"10-B\",\n",
        "        \"Tanggal Lahir\": \"14 Februari 2005\",\n",
        "        \"No HP\": \"044404086669\",\n",
        "        \"Alamat\": \"Jln. Black Sorrow\",\n",
        "        \"Hobi\": [\"Fotografi\", \"Bermain piano\", \"Menulis\"]\n",
        "    },\n",
        "    {\n",
        "        \"Nama\": \"Hyuna\",\n",
        "        \"Kelas\": \"12-B\",\n",
        "        \"Tanggal Lahir\": \"5 September 2004\",\n",
        "        \"No HP\": \"055504999666\",\n",
        "        \"Alamat\": \"Jln. All in\",\n",
        "        \"Hobi\": [\"Menyanyi\", \"Bermain guitar\"]\n",
        "    },\n",
        "\n",
        "]\n",
        "for mahasiswa in mahasiswa_list:\n",
        "    print(\"Nama         :\", mahasiswa[\"Nama\"])\n",
        "    print(\"Kelas        :\", mahasiswa[\"Kelas\"])\n",
        "    print(\"Tanggal Lahir:\", mahasiswa[\"Tanggal Lahir\"])\n",
        "    print(\"No HP        :\", mahasiswa[\"No HP\"])\n",
        "    print(\"Alamat       :\", mahasiswa[\"Alamat\"])\n",
        "    print(\"Hobi         :\")\n",
        "    for i, hobi in enumerate(mahasiswa[\"Hobi\"], 1):\n",
        "        print(f\"  {i}. {hobi}\")\n",
        "    print(\"\\n\")"
      ],
      "metadata": {
        "colab": {
          "base_uri": "https://localhost:8080/"
        },
        "id": "-nWp_qik6Ymu",
        "outputId": "9ff709e0-f256-4ae4-a96f-856464851a7c"
      },
      "execution_count": 9,
      "outputs": [
        {
          "output_type": "stream",
          "name": "stdout",
          "text": [
            "Nama         : Sua\n",
            "Kelas        : 11-A\n",
            "Tanggal Lahir: 22 December 2004\n",
            "No HP        : 022204086669\n",
            "Alamat       : Jln. Sweet Dreams\n",
            "Hobi         :\n",
            "  1. Membaca\n",
            "  2. Menggambar\n",
            "  3. Menulis\n",
            "\n",
            "\n",
            "Nama         : Mizi\n",
            "Kelas        : 11-A\n",
            "Tanggal Lahir: 20 Agustus 2004\n",
            "No HP        : 011104089666\n",
            "Alamat       : Jln. My Clematis\n",
            "Hobi         :\n",
            "  1. Menyanyi\n",
            "  2. Memasak\n",
            "  3. Berkebun\n",
            "\n",
            "\n",
            "Nama         : Ivan\n",
            "Kelas        : 10-B\n",
            "Tanggal Lahir: 14 Februari 2005\n",
            "No HP        : 044404086669\n",
            "Alamat       : Jln. Black Sorrow\n",
            "Hobi         :\n",
            "  1. Fotografi\n",
            "  2. Bermain piano\n",
            "  3. Menulis\n",
            "\n",
            "\n",
            "Nama         : Hyuna\n",
            "Kelas        : 12-B\n",
            "Tanggal Lahir: 5 September 2004\n",
            "No HP        : 055504999666\n",
            "Alamat       : Jln. All in\n",
            "Hobi         :\n",
            "  1. Menyanyi\n",
            "  2. Bermain guitar\n",
            "\n",
            "\n"
          ]
        }
      ]
    }
  ]
}