{
  "nbformat": 4,
  "nbformat_minor": 0,
  "metadata": {
    "colab": {
      "provenance": [],
      "authorship_tag": "ABX9TyPG8Da3IzG7JaegSEE5i3tC",
      "include_colab_link": true
    },
    "kernelspec": {
      "name": "python3",
      "display_name": "Python 3"
    },
    "language_info": {
      "name": "python"
    }
  },
  "cells": [
    {
      "cell_type": "markdown",
      "metadata": {
        "id": "view-in-github",
        "colab_type": "text"
      },
      "source": [
        "<a href=\"https://colab.research.google.com/github/evellynliena/PrakAlgo/blob/main/PrakAlgo_Week_6.ipynb\" target=\"_parent\"><img src=\"https://colab.research.google.com/assets/colab-badge.svg\" alt=\"Open In Colab\"/></a>"
      ]
    },
    {
      "cell_type": "markdown",
      "source": [
        "# **WEEKLY EXERCISE**"
      ],
      "metadata": {
        "id": "HZWlb8_SmOua"
      }
    },
    {
      "cell_type": "markdown",
      "source": [
        "# Weekly Exercise 1"
      ],
      "metadata": {
        "id": "mEJlinn3mUUa"
      }
    },
    {
      "cell_type": "code",
      "execution_count": 8,
      "metadata": {
        "colab": {
          "base_uri": "https://localhost:8080/"
        },
        "id": "jyfxAPxzmGrC",
        "outputId": "46c27100-b25c-4452-97bf-336c203caf08"
      },
      "outputs": [
        {
          "output_type": "stream",
          "name": "stdout",
          "text": [
            "Masukkan angka: 5\n",
            "    * \n",
            "   * * \n",
            "  * * * \n",
            " * * * * \n",
            "* * * * * \n"
          ]
        }
      ],
      "source": [
        "bintang = int(input(\"Masukkan jumlah baris: \"))\n",
        "for i in range(bintang):\n",
        "    print(\" \" * (bintang - i - 1), end=\"\")\n",
        "    print(\"* \" * (i + 1))"
      ]
    },
    {
      "cell_type": "markdown",
      "source": [
        "# Weekly Exercise 2"
      ],
      "metadata": {
        "id": "BBq3OJmcr6mh"
      }
    },
    {
      "cell_type": "code",
      "source": [
        "baris = int(input(\"Masukkan jumlah baris: \"))\n",
        "\n",
        "def factorial(n):\n",
        "    if n == 0 or n == 1:\n",
        "        return 1\n",
        "    else:\n",
        "        return n * factorial(n - 1)\n",
        "\n",
        "def pascal_segitiga(row):\n",
        "    for i in range(row):\n",
        "        print(\" \" * (row - i), end=\"\")\n",
        "        for j in range(i + 1):\n",
        "            value = factorial(i) // (factorial(j) * factorial(i - j))\n",
        "            print(value, end=\" \")\n",
        "        print()\n",
        "\n",
        "pascal_segitiga(baris)"
      ],
      "metadata": {
        "colab": {
          "base_uri": "https://localhost:8080/"
        },
        "id": "MA5jVC9Br9ab",
        "outputId": "95abf97d-dd54-45ad-de95-fb78d77b8766"
      },
      "execution_count": 11,
      "outputs": [
        {
          "output_type": "stream",
          "name": "stdout",
          "text": [
            "Masukkan jumlah baris: 6\n",
            "      1 \n",
            "     1 1 \n",
            "    1 2 1 \n",
            "   1 3 3 1 \n",
            "  1 4 6 4 1 \n",
            " 1 5 10 10 5 1 \n"
          ]
        }
      ]
    },
    {
      "cell_type": "markdown",
      "source": [
        "# Weekly Exercise 3"
      ],
      "metadata": {
        "id": "6eERE4pOtmod"
      }
    },
    {
      "cell_type": "code",
      "source": [
        "baris_segitiga = int(input(\"Masukkan jumlah baris: \"))\n",
        "\n",
        "def factorial(n):\n",
        "    if n == 0 or n == 1:\n",
        "        return 1\n",
        "    else:\n",
        "        return n * factorial(n - 1)\n",
        "\n",
        "def pascal(n):\n",
        "    baris = []\n",
        "    for j in range(n + 1):\n",
        "        nilai = factorial(n) // (factorial(j) * factorial(n - j))\n",
        "        baris.append(nilai)\n",
        "    return baris\n",
        "\n",
        "def sum_pascal(n):\n",
        "    baris = pascal(n)\n",
        "    print(\"Baris Pascal\", baris_segitiga, \"adalah\", baris)\n",
        "    return sum(baris)\n",
        "\n",
        "jumlah = sum_pascal(baris_segitiga)\n",
        "print(\"Jumlah angka dalam baris tersebut adalah:\", jumlah)"
      ],
      "metadata": {
        "colab": {
          "base_uri": "https://localhost:8080/"
        },
        "id": "rcwPee0ctsAI",
        "outputId": "d5921a24-fae9-423e-dafc-cb683bb96cec"
      },
      "execution_count": 16,
      "outputs": [
        {
          "output_type": "stream",
          "name": "stdout",
          "text": [
            "Masukkan jumlah baris: 4\n",
            "Baris Pascal 4 adalah [1, 4, 6, 4, 1]\n",
            "Jumlah angka dalam baris tersebut adalah: 16\n"
          ]
        }
      ]
    }
  ]
}