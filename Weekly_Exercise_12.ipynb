{
  "nbformat": 4,
  "nbformat_minor": 0,
  "metadata": {
    "colab": {
      "provenance": [],
      "authorship_tag": "ABX9TyMpylqzHmEmDfSyIbxBYAaZ",
      "include_colab_link": true
    },
    "kernelspec": {
      "name": "python3",
      "display_name": "Python 3"
    },
    "language_info": {
      "name": "python"
    }
  },
  "cells": [
    {
      "cell_type": "markdown",
      "metadata": {
        "id": "view-in-github",
        "colab_type": "text"
      },
      "source": [
        "<a href=\"https://colab.research.google.com/github/evellynliena/PrakAlgo/blob/main/Weekly_Exercise_12.ipynb\" target=\"_parent\"><img src=\"https://colab.research.google.com/assets/colab-badge.svg\" alt=\"Open In Colab\"/></a>"
      ]
    },
    {
      "cell_type": "code",
      "execution_count": 10,
      "metadata": {
        "colab": {
          "base_uri": "https://localhost:8080/"
        },
        "id": "Lb4WGceQ9TWW",
        "outputId": "c0a8a4c8-4e98-46ea-e2f9-ba55a843778a"
      },
      "outputs": [
        {
          "output_type": "stream",
          "name": "stdout",
          "text": [
            "Perhitungan Bangun Datar\n",
            "Masukkan jari-jari lingkaran: hi\n",
            "Error: Hanya boleh memasukkan angka.\n",
            "Masukkan jari-jari lingkaran: \n",
            "Error: Input tidak boleh kosong.\n",
            "Masukkan jari-jari lingkaran: 5\n",
            "Luas lingkaran dengan jari-jari 5.0 adalah: 78.54\n",
            "Masukkan sisi persegi: hello\n",
            "Error: Hanya boleh memasukkan angka.\n",
            "Masukkan sisi persegi: 3\n",
            "Luas persegi dengan sisi 3.0 adalah: 9.00\n",
            "Masukkan panjang persegi panjang: \n",
            "Error: Input tidak boleh kosong.\n",
            "Masukkan panjang persegi panjang: 6\n",
            "Masukkan lebar persegi panjang: 4\n",
            "Luas persegi panjang dengan panjang 6.0 dan lebar 4.0 adalah: 24.00\n"
          ]
        }
      ],
      "source": [
        "import matematika\n",
        "import math\n",
        "\n",
        "def input_float(prompt):\n",
        "    while True:\n",
        "        try:\n",
        "            value = input(prompt)\n",
        "            if not value.strip():\n",
        "                raise ValueError(\"tidak boleh kosong\")\n",
        "            return float(value)\n",
        "        except ValueError as e:\n",
        "            if str(e) == \"tidak boleh kosong\":\n",
        "                print(\"Error: Input tidak boleh kosong.\")\n",
        "            else:\n",
        "                print(\"Error: Hanya boleh memasukkan angka.\")\n",
        "def main():\n",
        "    print(\"Perhitungan Bangun Datar\")\n",
        "\n",
        "    jari_jari = input_float(\"Masukkan jari-jari lingkaran: \")\n",
        "    luas_lingkaran = math.pi * jari_jari**2\n",
        "    print(f\"Luas lingkaran dengan jari-jari {jari_jari} adalah: {luas_lingkaran:.2f}\")\n",
        "\n",
        "    sisi = input_float(\"Masukkan sisi persegi: \")\n",
        "    luas_persegi = sisi**2\n",
        "    print(f\"Luas persegi dengan sisi {sisi} adalah: {luas_persegi:.2f}\")\n",
        "\n",
        "    panjang = input_float(\"Masukkan panjang persegi panjang: \")\n",
        "    lebar = input_float(\"Masukkan lebar persegi panjang: \")\n",
        "    luas_persegi_panjang = panjang * lebar\n",
        "    print(f\"Luas persegi panjang dengan panjang {panjang} dan lebar {lebar} adalah: {luas_persegi_panjang:.2f}\")\n",
        "\n",
        "main()"
      ]
    },
    {
      "cell_type": "code",
      "source": [
        "def main():\n",
        "    while True:\n",
        "        try:\n",
        "            npm = input(\"Masukkan NPM Anda: \")\n",
        "\n",
        "            if not npm.strip():\n",
        "                raise ValueError(\"NPM tidak boleh kosong.\")\n",
        "\n",
        "            if not npm.isdigit():\n",
        "                raise ValueError(\"NPM hanya boleh berisi angka.\")\n",
        "\n",
        "            genap = 0\n",
        "            ganjil = 0\n",
        "\n",
        "            for digit in npm:\n",
        "                digit = int(digit)\n",
        "                if digit % 2 == 0:\n",
        "                    genap += 1\n",
        "                else:\n",
        "                    ganjil += 1\n",
        "\n",
        "            print(\"Jumlah digit genap:\", genap)\n",
        "            print(\"Jumlah digit ganjil:\", ganjil)\n",
        "\n",
        "            break\n",
        "\n",
        "        except ValueError as e:\n",
        "            print(f\"Error: {e}\")\n",
        "\n",
        "main()"
      ],
      "metadata": {
        "colab": {
          "base_uri": "https://localhost:8080/"
        },
        "id": "PwJF3WFLDRmb",
        "outputId": "0a6afa9e-272c-445a-a7cc-48ae7e15abe3"
      },
      "execution_count": 21,
      "outputs": [
        {
          "output_type": "stream",
          "name": "stdout",
          "text": [
            "Masukkan NPM Anda: hi\n",
            "Error: NPM hanya boleh berisi angka.\n",
            "Masukkan NPM Anda: \n",
            "Error: NPM tidak boleh kosong.\n",
            "Masukkan NPM Anda: 2410506015\n",
            "Jumlah digit genap: 6\n",
            "Jumlah digit ganjil: 4\n"
          ]
        }
      ]
    }
  ]
}